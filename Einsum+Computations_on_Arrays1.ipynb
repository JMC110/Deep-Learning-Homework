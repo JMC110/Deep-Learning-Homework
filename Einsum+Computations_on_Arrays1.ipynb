{
  "nbformat": 4,
  "nbformat_minor": 0,
  "metadata": {
    "colab": {
      "name": "Einsum+Computations on Arrays1.ipynb",
      "provenance": [],
      "authorship_tag": "ABX9TyPh4u1oIrCg1SwxUkWOyhkk",
      "include_colab_link": true
    },
    "kernelspec": {
      "name": "python3",
      "display_name": "Python 3"
    }
  },
  "cells": [
    {
      "cell_type": "markdown",
      "metadata": {
        "id": "view-in-github",
        "colab_type": "text"
      },
      "source": [
        "<a href=\"https://colab.research.google.com/github/JMC110/Homework_0/blob/master/Einsum%2BComputations_on_Arrays1.ipynb\" target=\"_parent\"><img src=\"https://colab.research.google.com/assets/colab-badge.svg\" alt=\"Open In Colab\"/></a>"
      ]
    },
    {
      "cell_type": "code",
      "metadata": {
        "id": "rWAuFYdnmwx8",
        "colab_type": "code",
        "colab": {}
      },
      "source": [
        "import numpy as np\n",
        "a = np.arange(25).reshape(5,5)\n",
        "b = np.arange(5)\n",
        "c = np.arange(6).reshape(2,3)"
      ],
      "execution_count": 0,
      "outputs": []
    },
    {
      "cell_type": "code",
      "metadata": {
        "id": "uUCOl4gjm9ET",
        "colab_type": "code",
        "colab": {
          "base_uri": "https://localhost:8080/",
          "height": 34
        },
        "outputId": "2b7f690f-101e-4f55-a7fc-56ac6451cc8b"
      },
      "source": [
        "np.einsum('ii', a)\n",
        "np.einsum(a, [0,0])\n",
        "np.trace(a)"
      ],
      "execution_count": 2,
      "outputs": [
        {
          "output_type": "execute_result",
          "data": {
            "text/plain": [
              "60"
            ]
          },
          "metadata": {
            "tags": []
          },
          "execution_count": 2
        }
      ]
    }
  ]
}