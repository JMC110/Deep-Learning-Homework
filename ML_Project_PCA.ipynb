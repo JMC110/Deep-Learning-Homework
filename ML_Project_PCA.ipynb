{
  "nbformat": 4,
  "nbformat_minor": 0,
  "metadata": {
    "kernelspec": {
      "display_name": "Python 3",
      "language": "python",
      "name": "python3"
    },
    "language_info": {
      "codemirror_mode": {
        "name": "ipython",
        "version": 3
      },
      "file_extension": ".py",
      "mimetype": "text/x-python",
      "name": "python",
      "nbconvert_exporter": "python",
      "pygments_lexer": "ipython3",
      "version": "3.7.3"
    },
    "colab": {
      "name": "ML_Project_PCA.ipynb",
      "provenance": [],
      "include_colab_link": true
    }
  },
  "cells": [
    {
      "cell_type": "markdown",
      "metadata": {
        "id": "view-in-github",
        "colab_type": "text"
      },
      "source": [
        "<a href=\"https://colab.research.google.com/github/JMC110/Homework_0/blob/master/ML_Project_PCA.ipynb\" target=\"_parent\"><img src=\"https://colab.research.google.com/assets/colab-badge.svg\" alt=\"Open In Colab\"/></a>"
      ]
    },
    {
      "cell_type": "code",
      "metadata": {
        "id": "0m1RbwXGmUTW",
        "colab_type": "code",
        "colab": {}
      },
      "source": [
        "import numpy as np\n",
        "import pandas as pd\n",
        "import pprint\n",
        "import matplotlib.pyplot as plt\n",
        "from sklearn.datasets import load_wine\n",
        "%matplotlib inline\n",
        "%precision 3\n",
        "np.set_printoptions(precision=3)\n",
        "import pylab as pl"
      ],
      "execution_count": 0,
      "outputs": []
    },
    {
      "cell_type": "code",
      "metadata": {
        "id": "1j-3rAbKmUTb",
        "colab_type": "code",
        "colab": {}
      },
      "source": [
        "from numpy import array\n",
        "from numpy import mean\n",
        "from numpy import cov\n",
        "from numpy.linalg import eig"
      ],
      "execution_count": 0,
      "outputs": []
    },
    {
      "cell_type": "code",
      "metadata": {
        "id": "OqLnJ9zTmUTe",
        "colab_type": "code",
        "colab": {}
      },
      "source": [
        "x1 = np.arange(0,13)\n",
        "y1 = np.arange(13,0,-1)"
      ],
      "execution_count": 0,
      "outputs": []
    },
    {
      "cell_type": "code",
      "metadata": {
        "id": "ukFk0SynmUTh",
        "colab_type": "code",
        "colab": {},
        "outputId": "f2dfd3fb-7d04-41cd-ff09-1a09bd55940f"
      },
      "source": [
        "plt.plot(x1,y1)"
      ],
      "execution_count": 0,
      "outputs": [
        {
          "output_type": "execute_result",
          "data": {
            "text/plain": [
              "[<matplotlib.lines.Line2D at 0x1abc2659470>]"
            ]
          },
          "metadata": {
            "tags": []
          },
          "execution_count": 13
        },
        {
          "output_type": "display_data",
          "data": {
            "image/png": "[encoded data removed]",
            "text/plain": [
              "<Figure size 432x288 with 1 Axes>"
            ]
          },
          "metadata": {
            "tags": [],
            "needs_background": "light"
          }
        }
      ]
    },
    {
      "cell_type": "code",
      "metadata": {
        "id": "IA3FjhGVmUTl",
        "colab_type": "code",
        "colab": {},
        "outputId": "0a1b2d54-695b-4971-9546-bf067e0b9961"
      },
      "source": [
        "np.cov([x1,y1])"
      ],
      "execution_count": 0,
      "outputs": [
        {
          "output_type": "execute_result",
          "data": {
            "text/plain": [
              "array([[ 15.167, -15.167],\n",
              "       [-15.167,  15.167]])"
            ]
          },
          "metadata": {
            "tags": []
          },
          "execution_count": 14
        }
      ]
    },
    {
      "cell_type": "code",
      "metadata": {
        "id": "6_L--6ocmUTn",
        "colab_type": "code",
        "colab": {},
        "outputId": "2994c602-6d07-494a-dd85-7c1b6c474873"
      },
      "source": [
        "x2 = np.arange(0,10)\n",
        "y2 = np.array([2]*10)\n",
        "plt.plot(x2,y2)"
      ],
      "execution_count": 0,
      "outputs": [
        {
          "output_type": "execute_result",
          "data": {
            "text/plain": [
              "[<matplotlib.lines.Line2D at 0x1abc2ac6828>]"
            ]
          },
          "metadata": {
            "tags": []
          },
          "execution_count": 15
        },
        {
          "output_type": "display_data",
          "data": {
            "image/png": "[encoded data removed]",
            "text/plain": [
              "<Figure size 432x288 with 1 Axes>"
            ]
          },
          "metadata": {
            "tags": [],
            "needs_background": "light"
          }
        }
      ]
    },
    {
      "cell_type": "code",
      "metadata": {
        "id": "YNIsMr0CmUTr",
        "colab_type": "code",
        "colab": {},
        "outputId": "47729f89-34ff-4606-fef8-02734431ea71"
      },
      "source": [
        "cov_mat = np.cov([x2,y2])\n",
        "cov_mat"
      ],
      "execution_count": 0,
      "outputs": [
        {
          "output_type": "execute_result",
          "data": {
            "text/plain": [
              "array([[9.167, 0.   ],\n",
              "       [0.   , 0.   ]])"
            ]
          },
          "metadata": {
            "tags": []
          },
          "execution_count": 17
        }
      ]
    },
    {
      "cell_type": "code",
      "metadata": {
        "id": "4ZTCjxTVmUTu",
        "colab_type": "code",
        "colab": {},
        "outputId": "d68b7621-c217-49eb-dad6-b6c286088ce9"
      },
      "source": [
        "x3 = np.array([2]*10)\n",
        "y3 = np.arange(0,10)\n",
        "plt.plot(x3,y3)"
      ],
      "execution_count": 0,
      "outputs": [
        {
          "output_type": "execute_result",
          "data": {
            "text/plain": [
              "[<matplotlib.lines.Line2D at 0x1abc2b2f080>]"
            ]
          },
          "metadata": {
            "tags": []
          },
          "execution_count": 18
        },
        {
          "output_type": "display_data",
          "data": {
            "image/png": "[encoded data removed]",
            "text/plain": [
              "<Figure size 432x288 with 1 Axes>"
            ]
          },
          "metadata": {
            "tags": [],
            "needs_background": "light"
          }
        }
      ]
    },
    {
      "cell_type": "code",
      "metadata": {
        "id": "5JjChEJjmUTw",
        "colab_type": "code",
        "colab": {},
        "outputId": "42895810-d850-4daa-97b8-77406ba1a6ba"
      },
      "source": [
        "np.cov([x3,y3])"
      ],
      "execution_count": 0,
      "outputs": [
        {
          "output_type": "execute_result",
          "data": {
            "text/plain": [
              "array([[0.   , 0.   ],\n",
              "       [0.   , 9.167]])"
            ]
          },
          "metadata": {
            "tags": []
          },
          "execution_count": 19
        }
      ]
    },
    {
      "cell_type": "code",
      "metadata": {
        "id": "yDVxg50hmUT1",
        "colab_type": "code",
        "colab": {}
      },
      "source": [
        "wine =load_wine()"
      ],
      "execution_count": 0,
      "outputs": []
    },
    {
      "cell_type": "code",
      "metadata": {
        "id": "UXgVkdo3mUT4",
        "colab_type": "code",
        "colab": {},
        "outputId": "08d36664-964a-4372-fd73-8c13889f9469"
      },
      "source": [
        "wine_df = pd.DataFrame(wine.data,columns=[wine.feature_names])\n",
        "wine_df.head()"
      ],
      "execution_count": 0,
      "outputs": [
        {
          "output_type": "execute_result",
          "data": {
            "text/html": [
              "<div>\n",
              "<style scoped>\n",
              "    .dataframe tbody tr th:only-of-type {\n",
              "        vertical-align: middle;\n",
              "    }\n",
              "\n",
              "    .dataframe tbody tr th {\n",
              "        vertical-align: top;\n",
              "    }\n",
              "\n",
              "    .dataframe thead tr th {\n",
              "        text-align: left;\n",
              "    }\n",
              "</style>\n",
              "<table border=\"1\" class=\"dataframe\">\n",
              "  <thead>\n",
              "    <tr>\n",
              "      <th></th>\n",
              "      <th>alcohol</th>\n",
              "      <th>malic_acid</th>\n",
              "      <th>ash</th>\n",
              "      <th>alcalinity_of_ash</th>\n",
              "      <th>magnesium</th>\n",
              "      <th>total_phenols</th>\n",
              "      <th>flavanoids</th>\n",
              "      <th>nonflavanoid_phenols</th>\n",
              "      <th>proanthocyanins</th>\n",
              "      <th>color_intensity</th>\n",
              "      <th>hue</th>\n",
              "      <th>od280/od315_of_diluted_wines</th>\n",
              "      <th>proline</th>\n",
              "    </tr>\n",
              "  </thead>\n",
              "  <tbody>\n",
              "    <tr>\n",
              "      <th>0</th>\n",
              "      <td>14.23</td>\n",
              "      <td>1.71</td>\n",
              "      <td>2.43</td>\n",
              "      <td>15.6</td>\n",
              "      <td>127.0</td>\n",
              "      <td>2.80</td>\n",
              "      <td>3.06</td>\n",
              "      <td>0.28</td>\n",
              "      <td>2.29</td>\n",
              "      <td>5.64</td>\n",
              "      <td>1.04</td>\n",
              "      <td>3.92</td>\n",
              "      <td>1065.0</td>\n",
              "    </tr>\n",
              "    <tr>\n",
              "      <th>1</th>\n",
              "      <td>13.20</td>\n",
              "      <td>1.78</td>\n",
              "      <td>2.14</td>\n",
              "      <td>11.2</td>\n",
              "      <td>100.0</td>\n",
              "      <td>2.65</td>\n",
              "      <td>2.76</td>\n",
              "      <td>0.26</td>\n",
              "      <td>1.28</td>\n",
              "      <td>4.38</td>\n",
              "      <td>1.05</td>\n",
              "      <td>3.40</td>\n",
              "      <td>1050.0</td>\n",
              "    </tr>\n",
              "    <tr>\n",
              "      <th>2</th>\n",
              "      <td>13.16</td>\n",
              "      <td>2.36</td>\n",
              "      <td>2.67</td>\n",
              "      <td>18.6</td>\n",
              "      <td>101.0</td>\n",
              "      <td>2.80</td>\n",
              "      <td>3.24</td>\n",
              "      <td>0.30</td>\n",
              "      <td>2.81</td>\n",
              "      <td>5.68</td>\n",
              "      <td>1.03</td>\n",
              "      <td>3.17</td>\n",
              "      <td>1185.0</td>\n",
              "    </tr>\n",
              "    <tr>\n",
              "      <th>3</th>\n",
              "      <td>14.37</td>\n",
              "      <td>1.95</td>\n",
              "      <td>2.50</td>\n",
              "      <td>16.8</td>\n",
              "      <td>113.0</td>\n",
              "      <td>3.85</td>\n",
              "      <td>3.49</td>\n",
              "      <td>0.24</td>\n",
              "      <td>2.18</td>\n",
              "      <td>7.80</td>\n",
              "      <td>0.86</td>\n",
              "      <td>3.45</td>\n",
              "      <td>1480.0</td>\n",
              "    </tr>\n",
              "    <tr>\n",
              "      <th>4</th>\n",
              "      <td>13.24</td>\n",
              "      <td>2.59</td>\n",
              "      <td>2.87</td>\n",
              "      <td>21.0</td>\n",
              "      <td>118.0</td>\n",
              "      <td>2.80</td>\n",
              "      <td>2.69</td>\n",
              "      <td>0.39</td>\n",
              "      <td>1.82</td>\n",
              "      <td>4.32</td>\n",
              "      <td>1.04</td>\n",
              "      <td>2.93</td>\n",
              "      <td>735.0</td>\n",
              "    </tr>\n",
              "  </tbody>\n",
              "</table>\n",
              "</div>"
            ],
            "text/plain": [
              "  alcohol malic_acid   ash alcalinity_of_ash magnesium total_phenols  \\\n",
              "0   14.23       1.71  2.43              15.6     127.0          2.80   \n",
              "1   13.20       1.78  2.14              11.2     100.0          2.65   \n",
              "2   13.16       2.36  2.67              18.6     101.0          2.80   \n",
              "3   14.37       1.95  2.50              16.8     113.0          3.85   \n",
              "4   13.24       2.59  2.87              21.0     118.0          2.80   \n",
              "\n",
              "  flavanoids nonflavanoid_phenols proanthocyanins color_intensity   hue  \\\n",
              "0       3.06                 0.28            2.29            5.64  1.04   \n",
              "1       2.76                 0.26            1.28            4.38  1.05   \n",
              "2       3.24                 0.30            2.81            5.68  1.03   \n",
              "3       3.49                 0.24            2.18            7.80  0.86   \n",
              "4       2.69                 0.39            1.82            4.32  1.04   \n",
              "\n",
              "  od280/od315_of_diluted_wines proline  \n",
              "0                         3.92  1065.0  \n",
              "1                         3.40  1050.0  \n",
              "2                         3.17  1185.0  \n",
              "3                         3.45  1480.0  \n",
              "4                         2.93   735.0  "
            ]
          },
          "metadata": {
            "tags": []
          },
          "execution_count": 6
        }
      ]
    },
    {
      "cell_type": "code",
      "metadata": {
        "id": "xkHSh7_wmUT6",
        "colab_type": "code",
        "colab": {}
      },
      "source": [
        "X = wine.data"
      ],
      "execution_count": 0,
      "outputs": []
    },
    {
      "cell_type": "code",
      "metadata": {
        "id": "QachlzyOmUT9",
        "colab_type": "code",
        "colab": {},
        "outputId": "ef454c39-bdde-4e30-9ccd-6ef49f5e81e2"
      },
      "source": [
        "X.shape"
      ],
      "execution_count": 0,
      "outputs": [
        {
          "output_type": "execute_result",
          "data": {
            "text/plain": [
              "(178, 13)"
            ]
          },
          "metadata": {
            "tags": []
          },
          "execution_count": 21
        }
      ]
    },
    {
      "cell_type": "code",
      "metadata": {
        "id": "rZFDvctFmUT_",
        "colab_type": "code",
        "colab": {},
        "outputId": "405cf2e0-1319-4be7-dee2-c457dd227fd4"
      },
      "source": [
        "print(X)"
      ],
      "execution_count": 0,
      "outputs": [
        {
          "output_type": "stream",
          "text": [
            "[[1.423e+01 1.710e+00 2.430e+00 ... 1.040e+00 3.920e+00 1.065e+03]\n",
            " [1.320e+01 1.780e+00 2.140e+00 ... 1.050e+00 3.400e+00 1.050e+03]\n",
            " [1.316e+01 2.360e+00 2.670e+00 ... 1.030e+00 3.170e+00 1.185e+03]\n",
            " ...\n",
            " [1.327e+01 4.280e+00 2.260e+00 ... 5.900e-01 1.560e+00 8.350e+02]\n",
            " [1.317e+01 2.590e+00 2.370e+00 ... 6.000e-01 1.620e+00 8.400e+02]\n",
            " [1.413e+01 4.100e+00 2.740e+00 ... 6.100e-01 1.600e+00 5.600e+02]]\n"
          ],
          "name": "stdout"
        }
      ]
    },
    {
      "cell_type": "code",
      "metadata": {
        "id": "06WMCzvcmUUB",
        "colab_type": "code",
        "colab": {},
        "outputId": "cb32e669-18d7-43c2-b3e0-3887022d48d5"
      },
      "source": [
        "M = mean(X.T, axis=1)\n",
        "print(M)"
      ],
      "execution_count": 0,
      "outputs": [
        {
          "output_type": "stream",
          "text": [
            "[1.300e+01 2.336e+00 2.367e+00 1.949e+01 9.974e+01 2.295e+00 2.029e+00\n",
            " 3.619e-01 1.591e+00 5.058e+00 9.574e-01 2.612e+00 7.469e+02]\n"
          ],
          "name": "stdout"
        }
      ]
    },
    {
      "cell_type": "code",
      "metadata": {
        "id": "dF7s4hLnmUUE",
        "colab_type": "code",
        "colab": {},
        "outputId": "c2ccb811-563f-4cf2-fce8-e1d81b47f69a"
      },
      "source": [
        "# center columns by subtracting column means\n",
        "C = X - M\n",
        "print(C)"
      ],
      "execution_count": 0,
      "outputs": [
        {
          "output_type": "stream",
          "text": [
            "[[ 1.229e+00 -6.263e-01  6.348e-02 ...  8.255e-02  1.308e+00  3.181e+02]\n",
            " [ 1.994e-01 -5.563e-01 -2.265e-01 ...  9.255e-02  7.883e-01  3.031e+02]\n",
            " [ 1.594e-01  2.365e-02  3.035e-01 ...  7.255e-02  5.583e-01  4.381e+02]\n",
            " ...\n",
            " [ 2.694e-01  1.944e+00 -1.065e-01 ... -3.674e-01 -1.052e+00  8.811e+01]\n",
            " [ 1.694e-01  2.537e-01  3.483e-03 ... -3.574e-01 -9.917e-01  9.311e+01]\n",
            " [ 1.129e+00  1.764e+00  3.735e-01 ... -3.474e-01 -1.012e+00 -1.869e+02]]\n"
          ],
          "name": "stdout"
        }
      ]
    },
    {
      "cell_type": "code",
      "metadata": {
        "id": "P67J12RtmUUH",
        "colab_type": "code",
        "colab": {},
        "outputId": "8b94c4de-a468-4f38-ef03-16fedd0f067e"
      },
      "source": [
        "# calculate covariance matrix of centered matrix\n",
        "V = cov(C.T)\n",
        "print(V)"
      ],
      "execution_count": 0,
      "outputs": [
        {
          "output_type": "stream",
          "text": [
            "[[ 6.591e-01  8.561e-02  4.712e-02 -8.411e-01  3.140e+00  1.469e-01\n",
            "   1.920e-01 -1.575e-02  6.352e-02  1.028e+00 -1.331e-02  4.170e-02\n",
            "   1.646e+02]\n",
            " [ 8.561e-02  1.248e+00  5.028e-02  1.076e+00 -8.708e-01 -2.343e-01\n",
            "  -4.586e-01  4.073e-02 -1.411e-01  6.448e-01 -1.433e-01 -2.924e-01\n",
            "  -6.755e+01]\n",
            " [ 4.712e-02  5.028e-02  7.526e-02  4.062e-01  1.123e+00  2.215e-02\n",
            "   3.153e-02  6.358e-03  1.516e-03  1.647e-01 -4.682e-03  7.618e-04\n",
            "   1.932e+01]\n",
            " [-8.411e-01  1.076e+00  4.062e-01  1.115e+01 -3.975e+00 -6.711e-01\n",
            "  -1.172e+00  1.504e-01 -3.772e-01  1.450e-01 -2.091e-01 -6.562e-01\n",
            "  -4.634e+02]\n",
            " [ 3.140e+00 -8.708e-01  1.123e+00 -3.975e+00  2.040e+02  1.916e+00\n",
            "   2.793e+00 -4.556e-01  1.933e+00  6.621e+00  1.809e-01  6.693e-01\n",
            "   1.769e+03]\n",
            " [ 1.469e-01 -2.343e-01  2.215e-02 -6.711e-01  1.916e+00  3.917e-01\n",
            "   5.405e-01 -3.505e-02  2.194e-01 -8.000e-02  6.204e-02  3.110e-01\n",
            "   9.817e+01]\n",
            " [ 1.920e-01 -4.586e-01  3.153e-02 -1.172e+00  2.793e+00  5.405e-01\n",
            "   9.977e-01 -6.687e-02  3.731e-01 -3.992e-01  1.241e-01  5.583e-01\n",
            "   1.554e+02]\n",
            " [-1.575e-02  4.073e-02  6.358e-03  1.504e-01 -4.556e-01 -3.505e-02\n",
            "  -6.687e-02  1.549e-02 -2.606e-02  4.012e-02 -7.471e-03 -4.447e-02\n",
            "  -1.220e+01]\n",
            " [ 6.352e-02 -1.411e-01  1.516e-03 -3.772e-01  1.933e+00  2.194e-01\n",
            "   3.731e-01 -2.606e-02  3.276e-01 -3.350e-02  3.866e-02  2.109e-01\n",
            "   5.955e+01]\n",
            " [ 1.028e+00  6.448e-01  1.647e-01  1.450e-01  6.621e+00 -8.000e-02\n",
            "  -3.992e-01  4.012e-02 -3.350e-02  5.374e+00 -2.765e-01 -7.058e-01\n",
            "   2.308e+02]\n",
            " [-1.331e-02 -1.433e-01 -4.682e-03 -2.091e-01  1.809e-01  6.204e-02\n",
            "   1.241e-01 -7.471e-03  3.866e-02 -2.765e-01  5.224e-02  9.177e-02\n",
            "   1.700e+01]\n",
            " [ 4.170e-02 -2.924e-01  7.618e-04 -6.562e-01  6.693e-01  3.110e-01\n",
            "   5.583e-01 -4.447e-02  2.109e-01 -7.058e-01  9.177e-02  5.041e-01\n",
            "   6.993e+01]\n",
            " [ 1.646e+02 -6.755e+01  1.932e+01 -4.634e+02  1.769e+03  9.817e+01\n",
            "   1.554e+02 -1.220e+01  5.955e+01  2.308e+02  1.700e+01  6.993e+01\n",
            "   9.917e+04]]\n"
          ],
          "name": "stdout"
        }
      ]
    },
    {
      "cell_type": "code",
      "metadata": {
        "id": "y6frUJ0OmUUK",
        "colab_type": "code",
        "colab": {},
        "outputId": "1cde7249-545f-4d4b-f770-a3763c3fa259"
      },
      "source": [
        "# eigendecomposition of covariance matrix\n",
        "values, vectors = eig(V)\n",
        "print(\"eigen Vectors=\\n%s\" %vectors)\n",
        "print(\" eigen Values=\\n%s\" %values)"
      ],
      "execution_count": 0,
      "outputs": [
        {
          "output_type": "stream",
          "text": [
            "eigen Vectors=\n",
            "[[-1.659e-03 -1.203e-03  1.687e-02  1.414e-01 -2.034e-02  1.941e-01\n",
            "  -9.233e-01  2.848e-01  8.660e-02  8.029e-03  1.565e-02 -1.497e-02\n",
            "  -2.245e-03]\n",
            " [ 6.810e-04 -2.155e-03  1.220e-01  1.604e-01  6.129e-01  7.425e-01\n",
            "   1.501e-01 -6.467e-02  1.566e-02 -1.109e-02 -6.730e-02 -2.319e-02\n",
            "  -1.851e-02]\n",
            " [-1.949e-04 -4.594e-03  5.199e-02 -9.773e-03 -2.018e-02  4.175e-02\n",
            "  -4.501e-02 -1.493e-01  7.365e-02 -1.737e-01  1.321e-01  9.540e-01\n",
            "  -8.680e-02]\n",
            " [ 4.671e-03 -2.645e-02  9.386e-01 -3.310e-01 -6.435e-02 -2.407e-02\n",
            "  -3.153e-02  1.515e-02  2.045e-03  1.940e-03 -5.394e-03 -5.282e-02\n",
            "   3.554e-03]\n",
            " [-1.787e-02 -9.993e-01 -2.978e-02 -5.394e-03  6.149e-03 -1.924e-03\n",
            "  -1.797e-03 -3.552e-03 -1.964e-03  2.285e-03 -6.209e-04 -3.025e-03\n",
            "  -4.052e-05]\n",
            " [-9.898e-04 -8.780e-04 -4.048e-02 -7.458e-02 -3.152e-01  2.787e-01\n",
            "   2.019e-02 -1.772e-01  2.557e-01 -2.669e-02 -3.883e-03  8.802e-03\n",
            "   8.472e-01]\n",
            " [-1.567e-03  5.185e-05 -8.544e-02 -1.691e-01 -5.248e-01  4.336e-01\n",
            "   3.887e-02 -2.481e-01  3.783e-01  6.960e-02  3.749e-02 -1.332e-01\n",
            "  -5.201e-01]\n",
            " [ 1.231e-04  1.354e-03  1.351e-02  1.081e-02  2.965e-02 -2.195e-02\n",
            "   4.665e-03  6.498e-03  3.675e-02  9.665e-01 -1.476e-01  1.992e-01\n",
            "   3.771e-02]\n",
            " [-6.006e-04 -5.004e-03 -2.466e-02 -5.012e-02 -2.512e-01  2.419e-01\n",
            "   3.098e-01  8.704e-01 -5.152e-02 -1.760e-02  1.312e-02  1.356e-01\n",
            "   9.723e-03]\n",
            " [-2.327e-03 -1.510e-02  2.914e-01  8.789e-01 -3.317e-01  2.740e-03\n",
            "   1.128e-01 -8.129e-02 -9.903e-02 -4.633e-03 -5.036e-02 -9.820e-03\n",
            "  -2.315e-02]\n",
            " [-1.714e-04  7.627e-04 -2.598e-02 -6.003e-02 -5.152e-02 -2.378e-02\n",
            "  -3.082e-02 -2.952e-03  3.307e-02 -1.666e-01 -9.756e-01  9.751e-02\n",
            "  -3.847e-02]\n",
            " [-7.049e-04  3.495e-03 -7.032e-02 -1.782e-01 -2.606e-01  2.889e-01\n",
            "  -1.020e-01 -1.867e-01 -8.737e-01  4.419e-02 -1.163e-02  2.849e-02\n",
            "   1.702e-02]\n",
            " [-9.998e-01  1.777e-02  4.529e-03 -3.113e-03  2.299e-03 -1.212e-03\n",
            "   1.076e-03  1.034e-05 -7.256e-05  3.627e-05  1.000e-04 -2.405e-04\n",
            "   4.927e-05]]\n",
            " eigen Values=\n",
            "[9.920e+04 1.725e+02 9.438e+00 4.991e+00 1.229e+00 8.411e-01 2.790e-01\n",
            " 1.514e-01 1.121e-01 8.204e-03 2.107e-02 3.758e-02 7.170e-02]\n"
          ],
          "name": "stdout"
        }
      ]
    },
    {
      "cell_type": "code",
      "metadata": {
        "id": "6Sfdwmq9mUUM",
        "colab_type": "code",
        "colab": {},
        "outputId": "a33f95ba-85f0-4aee-cca8-a6baa4ce3ae2"
      },
      "source": [
        "vectors.shape"
      ],
      "execution_count": 0,
      "outputs": [
        {
          "output_type": "execute_result",
          "data": {
            "text/plain": [
              "(13, 13)"
            ]
          },
          "metadata": {
            "tags": []
          },
          "execution_count": 28
        }
      ]
    },
    {
      "cell_type": "code",
      "metadata": {
        "id": "RfDesp0amUUO",
        "colab_type": "code",
        "colab": {},
        "outputId": "e1958bb3-6c9b-4dd1-aab7-be0e2de87261"
      },
      "source": [
        "values.shape"
      ],
      "execution_count": 0,
      "outputs": [
        {
          "output_type": "execute_result",
          "data": {
            "text/plain": [
              "(13,)"
            ]
          },
          "metadata": {
            "tags": []
          },
          "execution_count": 29
        }
      ]
    },
    {
      "cell_type": "code",
      "metadata": {
        "id": "_fORbtE-mUUQ",
        "colab_type": "code",
        "colab": {},
        "outputId": "438db8ed-498f-4b09-a620-11be1fbf295b"
      },
      "source": [
        "# Make a list of (eigenvalue, eigenvector) tuples\n",
        "eig_pairs = [(np.abs(values[i]), vectors[:,i]) for i in range(len(values))]\n",
        "\n",
        "# Sort the (eigenvalue, eigenvector) tuples from high to low\n",
        "eig_pairs.sort(key=lambda x: x[0], reverse=True)\n",
        "\n",
        "# Visually confirm that the list is correctly sorted by decreasing eigenvalues\n",
        "print('Eigenvalues in descending order:')\n",
        "for i in eig_pairs:\n",
        "    print(i[0])"
      ],
      "execution_count": 0,
      "outputs": [
        {
          "output_type": "stream",
          "text": [
            "Eigenvalues in descending order:\n",
            "99201.78951748097\n",
            "172.53526647789144\n",
            "9.438113703470645\n",
            "4.991178607641917\n",
            "1.2288452283714268\n",
            "0.8410638694551844\n",
            "0.27897352306605905\n",
            "0.15138126638308333\n",
            "0.11209676473742027\n",
            "0.07170260316211408\n",
            "0.03757597886619277\n",
            "0.02107236614937257\n",
            "0.008203703141775752\n"
          ],
          "name": "stdout"
        }
      ]
    },
    {
      "cell_type": "code",
      "metadata": {
        "id": "4z5oZTcsmUUT",
        "colab_type": "code",
        "colab": {},
        "outputId": "6da22533-1c0b-498f-e9ed-a0149e3a3368"
      },
      "source": [
        "tot = sum(values)\n",
        "var_exp = [(i / tot)*100 for i in sorted(values, reverse=True)]\n",
        "cum_var_exp = np.cumsum(var_exp)\n",
        "print (\"Variance captured by each component is \\n\",var_exp)\n",
        "print(50 * '-')\n",
        "print (\"Cumulative variance captured as we travel each component \\n\",cum_var_exp)"
      ],
      "execution_count": 0,
      "outputs": [
        {
          "output_type": "stream",
          "text": [
            "Variance captured by each component is \n",
            " [99.80912304918975, 0.1735915624705748, 0.009495895755146111, 0.005021735618215142, 0.0012363684687897742, 0.0008462130335248392, 0.00028068145571365607, 0.00015230805328475292, 0.00011278304393008655, 7.214158108199814e-05, 3.78060266512501e-05, 2.1201375460769154e-05, 8.253927880930353e-06]\n",
            "--------------------------------------------------\n",
            "Cumulative variance captured as we travel each component \n",
            " [ 99.809  99.983  99.992  99.997  99.998  99.999 100.    100.    100.\n",
            " 100.    100.    100.    100.   ]\n"
          ],
          "name": "stdout"
        }
      ]
    },
    {
      "cell_type": "code",
      "metadata": {
        "id": "M0sHTl80mUUV",
        "colab_type": "code",
        "colab": {},
        "outputId": "77c47f0c-f374-4ff0-bd68-28cd115be2c2"
      },
      "source": [
        "import pprint\n",
        "print (\"All Eigen Values along with Eigen Vectors\")\n",
        "pprint.pprint(eig_pairs)\n",
        "print(40 * '-')\n",
        "matrix_w = np.hstack((eig_pairs[0][1].reshape(13,1),\n",
        "                      eig_pairs[1][1].reshape(13,1)))\n",
        "\n",
        "print ('Matrix W:\\n', matrix_w)"
      ],
      "execution_count": 0,
      "outputs": [
        {
          "output_type": "stream",
          "text": [
            "All Eigen Values along with Eigen Vectors\n",
            "[(99201.78951748097,\n",
            "  array([-1.659e-03,  6.810e-04, -1.949e-04,  4.671e-03, -1.787e-02,\n",
            "       -9.898e-04, -1.567e-03,  1.231e-04, -6.006e-04, -2.327e-03,\n",
            "       -1.714e-04, -7.049e-04, -9.998e-01])),\n",
            " (172.53526647789144,\n",
            "  array([-1.203e-03, -2.155e-03, -4.594e-03, -2.645e-02, -9.993e-01,\n",
            "       -8.780e-04,  5.185e-05,  1.354e-03, -5.004e-03, -1.510e-02,\n",
            "        7.627e-04,  3.495e-03,  1.777e-02])),\n",
            " (9.438113703470645,\n",
            "  array([ 0.017,  0.122,  0.052,  0.939, -0.03 , -0.04 , -0.085,  0.014,\n",
            "       -0.025,  0.291, -0.026, -0.07 ,  0.005])),\n",
            " (4.991178607641917,\n",
            "  array([ 0.141,  0.16 , -0.01 , -0.331, -0.005, -0.075, -0.169,  0.011,\n",
            "       -0.05 ,  0.879, -0.06 , -0.178, -0.003])),\n",
            " (1.2288452283714268,\n",
            "  array([-0.02 ,  0.613, -0.02 , -0.064,  0.006, -0.315, -0.525,  0.03 ,\n",
            "       -0.251, -0.332, -0.052, -0.261,  0.002])),\n",
            " (0.8410638694551844,\n",
            "  array([ 0.194,  0.742,  0.042, -0.024, -0.002,  0.279,  0.434, -0.022,\n",
            "        0.242,  0.003, -0.024,  0.289, -0.001])),\n",
            " (0.27897352306605905,\n",
            "  array([-0.923,  0.15 , -0.045, -0.032, -0.002,  0.02 ,  0.039,  0.005,\n",
            "        0.31 ,  0.113, -0.031, -0.102,  0.001])),\n",
            " (0.15138126638308333,\n",
            "  array([ 2.848e-01, -6.467e-02, -1.493e-01,  1.515e-02, -3.552e-03,\n",
            "       -1.772e-01, -2.481e-01,  6.498e-03,  8.704e-01, -8.129e-02,\n",
            "       -2.952e-03, -1.867e-01,  1.034e-05])),\n",
            " (0.11209676473742027,\n",
            "  array([ 8.660e-02,  1.566e-02,  7.365e-02,  2.045e-03, -1.964e-03,\n",
            "        2.557e-01,  3.783e-01,  3.675e-02, -5.152e-02, -9.903e-02,\n",
            "        3.307e-02, -8.737e-01, -7.256e-05])),\n",
            " (0.07170260316211408,\n",
            "  array([-2.245e-03, -1.851e-02, -8.680e-02,  3.554e-03, -4.052e-05,\n",
            "        8.472e-01, -5.201e-01,  3.771e-02,  9.723e-03, -2.315e-02,\n",
            "       -3.847e-02,  1.702e-02,  4.927e-05])),\n",
            " (0.03757597886619277,\n",
            "  array([-1.497e-02, -2.319e-02,  9.540e-01, -5.282e-02, -3.025e-03,\n",
            "        8.802e-03, -1.332e-01,  1.992e-01,  1.356e-01, -9.820e-03,\n",
            "        9.751e-02,  2.849e-02, -2.405e-04])),\n",
            " (0.02107236614937257,\n",
            "  array([ 1.565e-02, -6.730e-02,  1.321e-01, -5.394e-03, -6.209e-04,\n",
            "       -3.883e-03,  3.749e-02, -1.476e-01,  1.312e-02, -5.036e-02,\n",
            "       -9.756e-01, -1.163e-02,  1.000e-04])),\n",
            " (0.008203703141775752,\n",
            "  array([ 8.029e-03, -1.109e-02, -1.737e-01,  1.940e-03,  2.285e-03,\n",
            "       -2.669e-02,  6.960e-02,  9.665e-01, -1.760e-02, -4.633e-03,\n",
            "       -1.666e-01,  4.419e-02,  3.627e-05]))]\n",
            "----------------------------------------\n",
            "Matrix W:\n",
            " [[-1.659e-03 -1.203e-03]\n",
            " [ 6.810e-04 -2.155e-03]\n",
            " [-1.949e-04 -4.594e-03]\n",
            " [ 4.671e-03 -2.645e-02]\n",
            " [-1.787e-02 -9.993e-01]\n",
            " [-9.898e-04 -8.780e-04]\n",
            " [-1.567e-03  5.185e-05]\n",
            " [ 1.231e-04  1.354e-03]\n",
            " [-6.006e-04 -5.004e-03]\n",
            " [-2.327e-03 -1.510e-02]\n",
            " [-1.714e-04  7.627e-04]\n",
            " [-7.049e-04  3.495e-03]\n",
            " [-9.998e-01  1.777e-02]]\n"
          ],
          "name": "stdout"
        }
      ]
    },
    {
      "cell_type": "code",
      "metadata": {
        "id": "dKGt7lZAmUUX",
        "colab_type": "code",
        "colab": {},
        "outputId": "2a585e46-6780-4d77-8fd2-fcde6197ee1f"
      },
      "source": [
        "Y = C.dot(matrix_w)\n",
        "print (Y[0:8])"
      ],
      "execution_count": 0,
      "outputs": [
        {
          "output_type": "stream",
          "text": [
            "[[-3.186e+02 -2.149e+01]\n",
            " [-3.031e+02  5.365e+00]\n",
            " [-4.381e+02  6.537e+00]\n",
            " [-7.332e+02 -1.927e-01]\n",
            " [ 1.157e+01 -1.849e+01]\n",
            " [-7.032e+02  3.322e-01]\n",
            " [-5.430e+02  1.352e+01]\n",
            " [-5.484e+02 -1.145e+01]]\n"
          ],
          "name": "stdout"
        }
      ]
    },
    {
      "cell_type": "code",
      "metadata": {
        "id": "4ItTlgZumUUZ",
        "colab_type": "code",
        "colab": {},
        "outputId": "c19aaa7c-20a5-4a16-9192-84d4c4f3fc2d"
      },
      "source": [
        "pl.figure()\n",
        "target_names = wine.target_names\n",
        "y = wine.target\n",
        "for c, i, target_name in zip(\"rgb\", [0, 1, 2], target_names):\n",
        "    pl.scatter(Y[y==i,0], Y[y==i,1], c=c, label=target_name)\n",
        "pl.xlabel('Principal Component 1')\n",
        "pl.ylabel('Principal Component 2')\n",
        "pl.legend()\n",
        "pl.title('PCA of WINE dataset')\n",
        "pl.show()"
      ],
      "execution_count": 0,
      "outputs": [
        {
          "output_type": "display_data",
          "data": {
            "image/png": "[encoded data removed]",
            "text/plain": [
              "<Figure size 432x288 with 1 Axes>"
            ]
          },
          "metadata": {
            "tags": [],
            "needs_background": "light"
          }
        }
      ]
    }
  ]
}