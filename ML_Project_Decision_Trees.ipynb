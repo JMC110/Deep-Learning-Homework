{
  "nbformat": 4,
  "nbformat_minor": 0,
  "metadata": {
    "kernelspec": {
      "display_name": "Python 3",
      "language": "python",
      "name": "python3"
    },
    "language_info": {
      "codemirror_mode": {
        "name": "ipython",
        "version": 3
      },
      "file_extension": ".py",
      "mimetype": "text/x-python",
      "name": "python",
      "nbconvert_exporter": "python",
      "pygments_lexer": "ipython3",
      "version": "3.7.3"
    },
    "colab": {
      "name": "ML Project Decision Trees.ipynb",
      "provenance": [],
      "include_colab_link": true
    }
  },
  "cells": [
    {
      "cell_type": "markdown",
      "metadata": {
        "id": "view-in-github",
        "colab_type": "text"
      },
      "source": [
        "<a href=\"https://colab.research.google.com/github/JMC110/Homework_0/blob/master/ML_Project_Decision_Trees.ipynb\" target=\"_parent\"><img src=\"https://colab.research.google.com/assets/colab-badge.svg\" alt=\"Open In Colab\"/></a>"
      ]
    },
    {
      "cell_type": "code",
      "metadata": {
        "id": "ZOjPAfgxlqj6",
        "colab_type": "code",
        "colab": {},
        "outputId": "b801d114-aa63-4220-fe59-ddd73bf10b1a"
      },
      "source": [
        "import numpy as np\n",
        "import matplotlib.pyplot as plt\n",
        "import pandas as pd\n",
        "from sklearn.preprocessing import LabelEncoder\n",
        "from sklearn.model_selection import train_test_split\n",
        "from sklearn.preprocessing import StandardScaler\n",
        "from sklearn.tree import DecisionTreeClassifier\n",
        "from sklearn.metrics import confusion_matrix\n",
        "from sklearn.metrics import accuracy_score\n",
        "from sklearn.metrics import f1_score\n",
        "from sklearn import metrics\n",
        "\n",
        "\n",
        "#dataset\n",
        "dataset = pd.read_csv(r'E:\\exoTrain.csv')\n",
        "dataset.head()"
      ],
      "execution_count": 0,
      "outputs": [
        {
          "output_type": "execute_result",
          "data": {
            "text/html": [
              "<div>\n",
              "<style scoped>\n",
              "    .dataframe tbody tr th:only-of-type {\n",
              "        vertical-align: middle;\n",
              "    }\n",
              "\n",
              "    .dataframe tbody tr th {\n",
              "        vertical-align: top;\n",
              "    }\n",
              "\n",
              "    .dataframe thead th {\n",
              "        text-align: right;\n",
              "    }\n",
              "</style>\n",
              "<table border=\"1\" class=\"dataframe\">\n",
              "  <thead>\n",
              "    <tr style=\"text-align: right;\">\n",
              "      <th></th>\n",
              "      <th>FLUX.1</th>\n",
              "      <th>FLUX.2</th>\n",
              "      <th>FLUX.3</th>\n",
              "      <th>FLUX.4</th>\n",
              "      <th>FLUX.5</th>\n",
              "      <th>FLUX.6</th>\n",
              "      <th>FLUX.7</th>\n",
              "      <th>FLUX.8</th>\n",
              "      <th>FLUX.9</th>\n",
              "      <th>FLUX.10</th>\n",
              "      <th>...</th>\n",
              "      <th>FLUX.3189</th>\n",
              "      <th>FLUX.3190</th>\n",
              "      <th>FLUX.3191</th>\n",
              "      <th>FLUX.3192</th>\n",
              "      <th>FLUX.3193</th>\n",
              "      <th>FLUX.3194</th>\n",
              "      <th>FLUX.3195</th>\n",
              "      <th>FLUX.3196</th>\n",
              "      <th>FLUX.3197</th>\n",
              "      <th>LABEL</th>\n",
              "    </tr>\n",
              "  </thead>\n",
              "  <tbody>\n",
              "    <tr>\n",
              "      <th>0</th>\n",
              "      <td>93.85</td>\n",
              "      <td>83.81</td>\n",
              "      <td>20.10</td>\n",
              "      <td>-26.98</td>\n",
              "      <td>-39.56</td>\n",
              "      <td>-124.71</td>\n",
              "      <td>-135.18</td>\n",
              "      <td>-96.27</td>\n",
              "      <td>-79.89</td>\n",
              "      <td>-160.17</td>\n",
              "      <td>...</td>\n",
              "      <td>-102.15</td>\n",
              "      <td>-102.15</td>\n",
              "      <td>25.13</td>\n",
              "      <td>48.57</td>\n",
              "      <td>92.54</td>\n",
              "      <td>39.32</td>\n",
              "      <td>61.42</td>\n",
              "      <td>5.08</td>\n",
              "      <td>-39.54</td>\n",
              "      <td>2</td>\n",
              "    </tr>\n",
              "    <tr>\n",
              "      <th>1</th>\n",
              "      <td>-38.88</td>\n",
              "      <td>-33.83</td>\n",
              "      <td>-58.54</td>\n",
              "      <td>-40.09</td>\n",
              "      <td>-79.31</td>\n",
              "      <td>-72.81</td>\n",
              "      <td>-86.55</td>\n",
              "      <td>-85.33</td>\n",
              "      <td>-83.97</td>\n",
              "      <td>-73.38</td>\n",
              "      <td>...</td>\n",
              "      <td>-32.21</td>\n",
              "      <td>-32.21</td>\n",
              "      <td>-24.89</td>\n",
              "      <td>-4.86</td>\n",
              "      <td>0.76</td>\n",
              "      <td>-11.70</td>\n",
              "      <td>6.46</td>\n",
              "      <td>16.00</td>\n",
              "      <td>19.93</td>\n",
              "      <td>2</td>\n",
              "    </tr>\n",
              "    <tr>\n",
              "      <th>2</th>\n",
              "      <td>532.64</td>\n",
              "      <td>535.92</td>\n",
              "      <td>513.73</td>\n",
              "      <td>496.92</td>\n",
              "      <td>456.45</td>\n",
              "      <td>466.00</td>\n",
              "      <td>464.50</td>\n",
              "      <td>486.39</td>\n",
              "      <td>436.56</td>\n",
              "      <td>484.39</td>\n",
              "      <td>...</td>\n",
              "      <td>13.31</td>\n",
              "      <td>13.31</td>\n",
              "      <td>-29.89</td>\n",
              "      <td>-20.88</td>\n",
              "      <td>5.06</td>\n",
              "      <td>-11.80</td>\n",
              "      <td>-28.91</td>\n",
              "      <td>-70.02</td>\n",
              "      <td>-96.67</td>\n",
              "      <td>2</td>\n",
              "    </tr>\n",
              "    <tr>\n",
              "      <th>3</th>\n",
              "      <td>326.52</td>\n",
              "      <td>347.39</td>\n",
              "      <td>302.35</td>\n",
              "      <td>298.13</td>\n",
              "      <td>317.74</td>\n",
              "      <td>312.70</td>\n",
              "      <td>322.33</td>\n",
              "      <td>311.31</td>\n",
              "      <td>312.42</td>\n",
              "      <td>323.33</td>\n",
              "      <td>...</td>\n",
              "      <td>-3.73</td>\n",
              "      <td>-3.73</td>\n",
              "      <td>30.05</td>\n",
              "      <td>20.03</td>\n",
              "      <td>-12.67</td>\n",
              "      <td>-8.77</td>\n",
              "      <td>-17.31</td>\n",
              "      <td>-17.35</td>\n",
              "      <td>13.98</td>\n",
              "      <td>2</td>\n",
              "    </tr>\n",
              "    <tr>\n",
              "      <th>4</th>\n",
              "      <td>-1107.21</td>\n",
              "      <td>-1112.59</td>\n",
              "      <td>-1118.95</td>\n",
              "      <td>-1095.10</td>\n",
              "      <td>-1057.55</td>\n",
              "      <td>-1034.48</td>\n",
              "      <td>-998.34</td>\n",
              "      <td>-1022.71</td>\n",
              "      <td>-989.57</td>\n",
              "      <td>-970.88</td>\n",
              "      <td>...</td>\n",
              "      <td>-401.66</td>\n",
              "      <td>-401.66</td>\n",
              "      <td>-357.24</td>\n",
              "      <td>-443.76</td>\n",
              "      <td>-438.54</td>\n",
              "      <td>-399.71</td>\n",
              "      <td>-384.65</td>\n",
              "      <td>-411.79</td>\n",
              "      <td>-510.54</td>\n",
              "      <td>2</td>\n",
              "    </tr>\n",
              "  </tbody>\n",
              "</table>\n",
              "<p>5 rows × 3198 columns</p>\n",
              "</div>"
            ],
            "text/plain": [
              "    FLUX.1   FLUX.2   FLUX.3   FLUX.4   FLUX.5   FLUX.6  FLUX.7   FLUX.8  \\\n",
              "0    93.85    83.81    20.10   -26.98   -39.56  -124.71 -135.18   -96.27   \n",
              "1   -38.88   -33.83   -58.54   -40.09   -79.31   -72.81  -86.55   -85.33   \n",
              "2   532.64   535.92   513.73   496.92   456.45   466.00  464.50   486.39   \n",
              "3   326.52   347.39   302.35   298.13   317.74   312.70  322.33   311.31   \n",
              "4 -1107.21 -1112.59 -1118.95 -1095.10 -1057.55 -1034.48 -998.34 -1022.71   \n",
              "\n",
              "   FLUX.9  FLUX.10  ...  FLUX.3189  FLUX.3190  FLUX.3191  FLUX.3192  \\\n",
              "0  -79.89  -160.17  ...    -102.15    -102.15      25.13      48.57   \n",
              "1  -83.97   -73.38  ...     -32.21     -32.21     -24.89      -4.86   \n",
              "2  436.56   484.39  ...      13.31      13.31     -29.89     -20.88   \n",
              "3  312.42   323.33  ...      -3.73      -3.73      30.05      20.03   \n",
              "4 -989.57  -970.88  ...    -401.66    -401.66    -357.24    -443.76   \n",
              "\n",
              "   FLUX.3193  FLUX.3194  FLUX.3195  FLUX.3196  FLUX.3197  LABEL  \n",
              "0      92.54      39.32      61.42       5.08     -39.54      2  \n",
              "1       0.76     -11.70       6.46      16.00      19.93      2  \n",
              "2       5.06     -11.80     -28.91     -70.02     -96.67      2  \n",
              "3     -12.67      -8.77     -17.31     -17.35      13.98      2  \n",
              "4    -438.54    -399.71    -384.65    -411.79    -510.54      2  \n",
              "\n",
              "[5 rows x 3198 columns]"
            ]
          },
          "metadata": {
            "tags": []
          },
          "execution_count": 3
        }
      ]
    },
    {
      "cell_type": "code",
      "metadata": {
        "id": "XcO5slWHlqkA",
        "colab_type": "code",
        "colab": {},
        "outputId": "240e8391-1672-420d-d453-d6e657d4ae60"
      },
      "source": [
        "dataset.shape\n",
        "dataset.isnull().sum()\n",
        "dataset.isna().sum()"
      ],
      "execution_count": 0,
      "outputs": [
        {
          "output_type": "execute_result",
          "data": {
            "text/plain": [
              "FLUX.1       0\n",
              "FLUX.2       0\n",
              "FLUX.3       0\n",
              "FLUX.4       0\n",
              "FLUX.5       0\n",
              "FLUX.6       0\n",
              "FLUX.7       0\n",
              "FLUX.8       0\n",
              "FLUX.9       0\n",
              "FLUX.10      0\n",
              "FLUX.11      0\n",
              "FLUX.12      0\n",
              "FLUX.13      0\n",
              "FLUX.14      0\n",
              "FLUX.15      0\n",
              "FLUX.16      0\n",
              "FLUX.17      0\n",
              "FLUX.18      0\n",
              "FLUX.19      0\n",
              "FLUX.20      0\n",
              "FLUX.21      0\n",
              "FLUX.22      0\n",
              "FLUX.23      0\n",
              "FLUX.24      0\n",
              "FLUX.25      0\n",
              "FLUX.26      0\n",
              "FLUX.27      0\n",
              "FLUX.28      0\n",
              "FLUX.29      0\n",
              "FLUX.30      0\n",
              "            ..\n",
              "FLUX.3169    0\n",
              "FLUX.3170    0\n",
              "FLUX.3171    0\n",
              "FLUX.3172    0\n",
              "FLUX.3173    0\n",
              "FLUX.3174    0\n",
              "FLUX.3175    0\n",
              "FLUX.3176    0\n",
              "FLUX.3177    0\n",
              "FLUX.3178    0\n",
              "FLUX.3179    0\n",
              "FLUX.3180    0\n",
              "FLUX.3181    0\n",
              "FLUX.3182    0\n",
              "FLUX.3183    0\n",
              "FLUX.3184    0\n",
              "FLUX.3185    0\n",
              "FLUX.3186    0\n",
              "FLUX.3187    0\n",
              "FLUX.3188    0\n",
              "FLUX.3189    0\n",
              "FLUX.3190    0\n",
              "FLUX.3191    0\n",
              "FLUX.3192    0\n",
              "FLUX.3193    0\n",
              "FLUX.3194    0\n",
              "FLUX.3195    0\n",
              "FLUX.3196    0\n",
              "FLUX.3197    0\n",
              "LABEL        0\n",
              "Length: 3198, dtype: int64"
            ]
          },
          "metadata": {
            "tags": []
          },
          "execution_count": 4
        }
      ]
    },
    {
      "cell_type": "code",
      "metadata": {
        "id": "RyaA5vhalqkD",
        "colab_type": "code",
        "colab": {}
      },
      "source": [
        "X = dataset.iloc[:, 0:3197].values\n",
        "Y = dataset.iloc[:, 3197].values\n",
        "#converting class column to 0 and 1\n",
        "#labelencoder_Y = LabelEncoder()\n",
        "#Y = labelencoder_Y.fit_transform(Y)"
      ],
      "execution_count": 0,
      "outputs": []
    },
    {
      "cell_type": "code",
      "metadata": {
        "id": "7qOygGXMlqkG",
        "colab_type": "code",
        "colab": {}
      },
      "source": [
        "#Splitting datsset 70:30 ratio\n",
        "X_train, X_test, Y_train, Y_test = train_test_split(X, Y, test_size = 0.30, random_state = 0)\n",
        "sc = StandardScaler()\n",
        "X_train = sc.fit_transform(X_train)\n",
        "X_test = sc.transform(X_test)"
      ],
      "execution_count": 0,
      "outputs": []
    },
    {
      "cell_type": "code",
      "metadata": {
        "id": "kEytK2cmlqkJ",
        "colab_type": "code",
        "colab": {},
        "outputId": "693eb248-ba4f-4748-8f0b-b22beadd9ead"
      },
      "source": [
        "from sklearn.tree import DecisionTreeClassifier\n",
        "classifier = DecisionTreeClassifier(criterion = 'entropy', random_state = 0)\n",
        "classifier.fit(X_train, Y_train)"
      ],
      "execution_count": 0,
      "outputs": [
        {
          "output_type": "execute_result",
          "data": {
            "text/plain": [
              "DecisionTreeClassifier(class_weight=None, criterion='entropy', max_depth=None,\n",
              "            max_features=None, max_leaf_nodes=None,\n",
              "            min_impurity_decrease=0.0, min_impurity_split=None,\n",
              "            min_samples_leaf=1, min_samples_split=2,\n",
              "            min_weight_fraction_leaf=0.0, presort=False, random_state=0,\n",
              "            splitter='best')"
            ]
          },
          "metadata": {
            "tags": []
          },
          "execution_count": 14
        }
      ]
    },
    {
      "cell_type": "code",
      "metadata": {
        "id": "DiLtkspNlqkM",
        "colab_type": "code",
        "colab": {},
        "outputId": "90d1e180-c0e1-4e2c-ed79-641642f5f740"
      },
      "source": [
        "Y_predicted = classifier.predict(X_test)\n",
        "ConfusionMatrix = confusion_matrix(Y_test, Y_predicted)\n",
        "f1score = metrics.f1_score(Y_test, Y_predicted)\n",
        "print(\"Confusion Matrix=\",ConfusionMatrix)\n",
        "print(\"F Score=\",f1score)"
      ],
      "execution_count": 0,
      "outputs": [
        {
          "output_type": "stream",
          "text": [
            "Confusion Matrix= [[1670   14]\n",
            " [  13    1]]\n",
            "F Score= 0.991980991980992\n"
          ],
          "name": "stdout"
        }
      ]
    },
    {
      "cell_type": "code",
      "metadata": {
        "id": "Mc7KscmSlqkS",
        "colab_type": "code",
        "colab": {},
        "outputId": "e5020c52-6d57-46f3-c249-da62d2274f6a"
      },
      "source": [
        "from sklearn.metrics import classification_report\n",
        "\n",
        "print(classification_report(Y_test, Y_predicted))"
      ],
      "execution_count": 0,
      "outputs": [
        {
          "output_type": "stream",
          "text": [
            "              precision    recall  f1-score   support\n",
            "\n",
            "           1       0.99      0.99      0.99      1684\n",
            "           2       0.07      0.07      0.07        14\n",
            "\n",
            "   micro avg       0.98      0.98      0.98      1698\n",
            "   macro avg       0.53      0.53      0.53      1698\n",
            "weighted avg       0.98      0.98      0.98      1698\n",
            "\n"
          ],
          "name": "stdout"
        }
      ]
    },
    {
      "cell_type": "code",
      "metadata": {
        "id": "RmGlaFIflqkV",
        "colab_type": "code",
        "colab": {},
        "outputId": "55a43b83-2679-46e0-8b87-1fb15d59660c"
      },
      "source": [
        "Accuracy = accuracy_score(Y_test, Y_predicted)\n",
        "print(\"Accuracy with Decision Tree Algorithm =\",Accuracy)"
      ],
      "execution_count": 0,
      "outputs": [
        {
          "output_type": "stream",
          "text": [
            "Accuracy with Decision Tree Algorithm = 0.9840989399293286\n"
          ],
          "name": "stdout"
        }
      ]
    },
    {
      "cell_type": "code",
      "metadata": {
        "id": "2O71qVRxlqkX",
        "colab_type": "code",
        "colab": {},
        "outputId": "3cf69f56-9fce-4950-c584-ce151cfc0991"
      },
      "source": [
        "from sklearn.metrics import roc_auc_score\n",
        "roc_auc_score(Y_test, Y_predicted)"
      ],
      "execution_count": 0,
      "outputs": [
        {
          "output_type": "execute_result",
          "data": {
            "text/plain": [
              "0.5315575161180862"
            ]
          },
          "metadata": {
            "tags": []
          },
          "execution_count": 19
        }
      ]
    }
  ]
}